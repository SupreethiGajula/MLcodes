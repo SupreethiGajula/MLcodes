{
 "cells": [
  {
   "cell_type": "code",
   "execution_count": 10,
   "id": "360da8a0",
   "metadata": {},
   "outputs": [],
   "source": [
    "import csv\n",
    "def initialize_hypotheses(attributes):\n",
    "    specific_hypothesis = ['?' for _ in attributes]\n",
    "    general_hypothesis = ['?' for _ in attributes]\n",
    "    return specific_hypothesis, general_hypothesis\n",
    "def is_consistent(hypothesis, example):\n",
    "    for h, e in zip(hypothesis, example):\n",
    "        if h != '?' and h != e:\n",
    "            return False\n",
    "    return True\n",
    "def generalize_hypothesis(hypothesis, example):\n",
    "    generalized_hypothesis = []\n",
    "    for h, e in zip(hypothesis, example):\n",
    "        if h == '?':\n",
    "            generalized_hypothesis.append(e)\n",
    "        else:\n",
    "            generalized_hypothesis.append('?')\n",
    "    return generalized_hypothesis\n",
    "def specialize_hypothesis(hypothesis, example):\n",
    "    specialized_hypothesis = []\n",
    "    for h, e in zip(hypothesis, example):\n",
    "        if h == '?':\n",
    "            specialized_hypothesis.append(e)\n",
    "        else:\n",
    "            specialized_hypothesis.append('?')\n",
    "    return specialized_hypothesis"
   ]
  },
  {
   "cell_type": "code",
   "execution_count": 11,
   "id": "44ec59b1",
   "metadata": {},
   "outputs": [],
   "source": [
    "def candidate_elimination_algorithm(training_data):\n",
    "    attributes = training_data[0][:-1]\n",
    "    specific_hypothesis, general_hypothesis = initialize_hypotheses(attributes)\n",
    "    \n",
    "    for example in training_data:\n",
    "        if example[-1] == '1':  # Positive example\n",
    "            if not is_consistent(specific_hypothesis, example):\n",
    "                continue\n",
    "            for i in range(len(specific_hypothesis)):\n",
    "                if specific_hypothesis[i] == '?':\n",
    "                    specific_hypothesis[i] = example[i]\n",
    "                elif specific_hypothesis[i] != example[i]:\n",
    "                    specific_hypothesis[i] = '?'\n",
    "        else:  # Negative example\n",
    "            if not is_consistent(general_hypothesis, example):\n",
    "                continue\n",
    "            general_hypothesis = generalize_hypothesis(general_hypothesis, example)\n",
    "            for i in range(len(specific_hypothesis)):\n",
    "                if specific_hypothesis[i] != example[i]:\n",
    "                    specialized_hypothesis = specialize_hypothesis(specific_hypothesis, example)\n",
    "                    if is_consistent(specialized_hypothesis, example):\n",
    "                        specific_hypothesis = specialized_hypothesis\n",
    "    \n",
    "    return specific_hypothesis, general_hypothesis\n",
    "\n"
   ]
  },
  {
   "cell_type": "code",
   "execution_count": 12,
   "id": "19b61ff4",
   "metadata": {},
   "outputs": [
    {
     "name": "stdout",
     "output_type": "stream",
     "text": [
      "Specific Hypothesis: ['Sky', ' AirTemp', ' Humidity', ' Wind', ' Water', ' Forecast']\n",
      "General Hypothesis: ['Sky', ' AirTemp', ' Humidity', ' Wind', ' Water', ' Forecast']\n"
     ]
    }
   ],
   "source": [
    "# Read the training data from a CSV file\n",
    "def read_csv_file(file_path):\n",
    "    training_data = []\n",
    "    with open(file_path, 'r') as file:\n",
    "        csv_reader = csv.reader(file)\n",
    "        for row in csv_reader:\n",
    "            training_data.append(row)\n",
    "        return training_data\n",
    "csv_file_path = '1.csv'\n",
    "training_data = read_csv_file(csv_file_path)\n",
    "specific_hypothesis, general_hypothesis = candidate_elimination_algorithm(training_data)\n",
    "print(\"Specific Hypothesis:\", specific_hypothesis)\n",
    "print(\"General Hypothesis:\", general_hypothesis)\n"
   ]
  },
  {
   "cell_type": "code",
   "execution_count": null,
   "id": "7b70f08e",
   "metadata": {},
   "outputs": [],
   "source": []
  }
 ],
 "metadata": {
  "kernelspec": {
   "display_name": "Python 3 (ipykernel)",
   "language": "python",
   "name": "python3"
  },
  "language_info": {
   "codemirror_mode": {
    "name": "ipython",
    "version": 3
   },
   "file_extension": ".py",
   "mimetype": "text/x-python",
   "name": "python",
   "nbconvert_exporter": "python",
   "pygments_lexer": "ipython3",
   "version": "3.9.7"
  }
 },
 "nbformat": 4,
 "nbformat_minor": 5
}
