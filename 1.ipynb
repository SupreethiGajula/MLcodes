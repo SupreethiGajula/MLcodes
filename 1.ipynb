{
 "cells": [
  {
   "cell_type": "code",
   "execution_count": 4,
   "id": "2a92245d",
   "metadata": {},
   "outputs": [
    {
     "name": "stdout",
     "output_type": "stream",
     "text": [
      "Final hypothesis: ['Sky', ' AirTemp', ' Humidity', ' Wind', ' Water', ' Forecast']\n"
     ]
    }
   ],
   "source": [
    "import csv\n",
    "def find_s_algorithm(training_data):\n",
    "    hypothesis = training_data[0][:-1]\n",
    " # Iterate over the training examples\n",
    "    for example in training_data:\n",
    "        if example[-1] == '1': # Positive example\n",
    "            for i in range(len(example) - 1):\n",
    "                if example[i] != hypothesis[i]:\n",
    "                    hypothesis[i] = '?'\n",
    "                else: # Negative example\n",
    "                    continue\n",
    "    return hypothesis\n",
    "def read_csv_file(file_path):\n",
    "    training_data = []\n",
    "    with open(file_path, 'r') as file:\n",
    "        csv_reader = csv.reader(file)\n",
    "        for row in csv_reader:\n",
    "            training_data.append(row)\n",
    "            return training_data\n",
    "csv_file_path = '1.csv'\n",
    "training_data = read_csv_file(csv_file_path)\n",
    "hypothesis = find_s_algorithm(training_data)\n",
    "print(\"Final hypothesis:\", hypothesis)\n"
   ]
  },
  {
   "cell_type": "code",
   "execution_count": null,
   "id": "d36f6942",
   "metadata": {},
   "outputs": [],
   "source": []
  }
 ],
 "metadata": {
  "kernelspec": {
   "display_name": "Python 3 (ipykernel)",
   "language": "python",
   "name": "python3"
  },
  "language_info": {
   "codemirror_mode": {
    "name": "ipython",
    "version": 3
   },
   "file_extension": ".py",
   "mimetype": "text/x-python",
   "name": "python",
   "nbconvert_exporter": "python",
   "pygments_lexer": "ipython3",
   "version": "3.9.7"
  }
 },
 "nbformat": 4,
 "nbformat_minor": 5
}
