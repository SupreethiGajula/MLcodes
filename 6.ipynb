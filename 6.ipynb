{
 "cells": [
  {
   "cell_type": "code",
   "execution_count": 1,
   "id": "af1b38a1",
   "metadata": {},
   "outputs": [
    {
     "name": "stdout",
     "output_type": "stream",
     "text": [
      "Accuracy: 1.0\n",
      "Precision: 1.0\n",
      "Recall: 1.0\n"
     ]
    }
   ],
   "source": [
    "import pandas as pd\n",
    "from sklearn.feature_extraction.text import CountVectorizer\n",
    "from sklearn.naive_bayes import MultinomialNB\n",
    "from sklearn.metrics import accuracy_score, precision_score, recall_score\n",
    "# Sample dataset\n",
    "documents = [\n",
    " {'text': 'This is a positive document', 'label': 'positive'},\n",
    " {'text': 'This is a negative document', 'label': 'negative'},\n",
    " {'text': 'This document is neutral', 'label': 'neutral'},\n",
    " {'text': 'Another positive document', 'label': 'positive'},\n",
    " {'text': 'Another negative document', 'label': 'negative'},\n",
    "]\n",
    "# Convert documents to DataFrame\n",
    "df = pd.DataFrame(documents)\n",
    "# Split the data into training and testing sets\n",
    "train_data = df['text'][:3]\n",
    "train_labels = df['label'][:3]\n",
    "test_data = df['text'][3:]\n",
    "test_labels = df['label'][3:]\n",
    "# Create a CountVectorizer to convert text into numerical features\n",
    "vectorizer = CountVectorizer()\n",
    "train_features = vectorizer.fit_transform(train_data)\n",
    "test_features = vectorizer.transform(test_data)\n",
    "# Train the Naive Bayes classifier\n",
    "nb_classifier = MultinomialNB()\n",
    "nb_classifier.fit(train_features, train_labels)\n",
    "# Make predictions on the test set\n",
    "predictions = nb_classifier.predict(test_features)\n",
    "# Calculate accuracy, precision, and recall\n",
    "accuracy = accuracy_score(test_labels, predictions)\n",
    "precision = precision_score(test_labels, predictions, average='weighted')\n",
    "recall = recall_score(test_labels, predictions, average='weighted')\n",
    "# Print the results\n",
    "print(f'Accuracy: {accuracy}')\n",
    "print(f'Precision: {precision}')\n",
    "print(f'Recall: {recall}')\n"
   ]
  },
  {
   "cell_type": "code",
   "execution_count": null,
   "id": "9923403b",
   "metadata": {},
   "outputs": [],
   "source": []
  }
 ],
 "metadata": {
  "kernelspec": {
   "display_name": "Python 3 (ipykernel)",
   "language": "python",
   "name": "python3"
  },
  "language_info": {
   "codemirror_mode": {
    "name": "ipython",
    "version": 3
   },
   "file_extension": ".py",
   "mimetype": "text/x-python",
   "name": "python",
   "nbconvert_exporter": "python",
   "pygments_lexer": "ipython3",
   "version": "3.9.7"
  }
 },
 "nbformat": 4,
 "nbformat_minor": 5
}
