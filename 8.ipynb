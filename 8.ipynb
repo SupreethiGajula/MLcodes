{
 "cells": [
  {
   "cell_type": "code",
   "execution_count": 1,
   "metadata": {
    "id": "cLAUnarth-Oy"
   },
   "outputs": [],
   "source": [
    "import pandas as pd\n",
    "import numpy as np\n",
    "from sklearn.cluster import KMeans\n",
    "from sklearn.mixture import GaussianMixture\n",
    "from sklearn.preprocessing import StandardScaler\n"
   ]
  },
  {
   "cell_type": "code",
   "execution_count": 2,
   "metadata": {
    "colab": {
     "base_uri": "https://localhost:8080/"
    },
    "id": "G5BdikLwiBBS",
    "outputId": "62f299a6-d740-4393-c4f9-bd15fb4da88c"
   },
   "outputs": [
    {
     "name": "stdout",
     "output_type": "stream",
     "text": [
      "K-means clustering labels:\n",
      "[1 1 2 0 2 0]\n",
      "\n",
      "EM clustering labels:\n",
      "[1 1 2 0 2 0]\n"
     ]
    }
   ],
   "source": [
    "# Load the dataset from the CSV file (replace 'data.csv' with the actual file path)\n",
    "data = pd.read_csv('data.csv')\n",
    "X = data.iloc[:, :-1].values\n",
    "scaler = StandardScaler()\n",
    "X_scaled = scaler.fit_transform(X)\n",
    "kmeans = KMeans(n_clusters=3, random_state=42)\n",
    "kmeans_labels = kmeans.fit_predict(X_scaled)\n",
    "# Perform clustering using the EM algorithm\n",
    "em = GaussianMixture(n_components=3, random_state=42)\n",
    "em_labels = em.fit_predict(X_scaled)\n",
    "print(\"K-means clustering labels:\")\n",
    "print(kmeans_labels)\n",
    "print()\n",
    "print(\"EM clustering labels:\")\n",
    "print(em_labels)\n"
   ]
  },
  {
   "cell_type": "code",
   "execution_count": null,
   "metadata": {},
   "outputs": [],
   "source": []
  }
 ],
 "metadata": {
  "colab": {
   "provenance": []
  },
  "kernelspec": {
   "display_name": "Python 3 (ipykernel)",
   "language": "python",
   "name": "python3"
  },
  "language_info": {
   "codemirror_mode": {
    "name": "ipython",
    "version": 3
   },
   "file_extension": ".py",
   "mimetype": "text/x-python",
   "name": "python",
   "nbconvert_exporter": "python",
   "pygments_lexer": "ipython3",
   "version": "3.9.7"
  }
 },
 "nbformat": 4,
 "nbformat_minor": 1
}
