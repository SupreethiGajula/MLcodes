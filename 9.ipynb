{
 "cells": [
  {
   "cell_type": "code",
   "execution_count": 7,
   "id": "66fc9ecd",
   "metadata": {},
   "outputs": [
    {
     "name": "stdout",
     "output_type": "stream",
     "text": [
      "Correct Predictions:\n",
      "Sample 1: Predicted=versicolor, Actual=versicolor\n",
      "Sample 2: Predicted=setosa, Actual=setosa\n",
      "Sample 3: Predicted=virginica, Actual=virginica\n",
      "Sample 4: Predicted=versicolor, Actual=versicolor\n",
      "Sample 5: Predicted=versicolor, Actual=versicolor\n",
      "Sample 6: Predicted=setosa, Actual=setosa\n",
      "Sample 7: Predicted=versicolor, Actual=versicolor\n",
      "Sample 8: Predicted=virginica, Actual=virginica\n",
      "Sample 9: Predicted=versicolor, Actual=versicolor\n",
      "Sample 10: Predicted=versicolor, Actual=versicolor\n",
      "Sample 11: Predicted=virginica, Actual=virginica\n",
      "Sample 12: Predicted=setosa, Actual=setosa\n",
      "Sample 13: Predicted=setosa, Actual=setosa\n",
      "Sample 14: Predicted=setosa, Actual=setosa\n",
      "Sample 15: Predicted=setosa, Actual=setosa\n",
      "Sample 16: Predicted=versicolor, Actual=versicolor\n",
      "Sample 17: Predicted=virginica, Actual=virginica\n",
      "Sample 18: Predicted=versicolor, Actual=versicolor\n",
      "Sample 19: Predicted=versicolor, Actual=versicolor\n",
      "Sample 20: Predicted=virginica, Actual=virginica\n",
      "Sample 21: Predicted=setosa, Actual=setosa\n",
      "Sample 22: Predicted=virginica, Actual=virginica\n",
      "Sample 23: Predicted=setosa, Actual=setosa\n",
      "Sample 24: Predicted=virginica, Actual=virginica\n",
      "Sample 25: Predicted=virginica, Actual=virginica\n",
      "Sample 26: Predicted=virginica, Actual=virginica\n",
      "Sample 27: Predicted=virginica, Actual=virginica\n",
      "Sample 28: Predicted=virginica, Actual=virginica\n",
      "Sample 29: Predicted=setosa, Actual=setosa\n",
      "Sample 30: Predicted=setosa, Actual=setosa\n",
      "\n",
      "Wrong Predictions:\n"
     ]
    }
   ],
   "source": [
    "\n",
    "\n",
    "\n",
    "from sklearn.datasets import load_iris\n",
    "from sklearn.model_selection import train_test_split\n",
    "from sklearn.neighbors import KNeighborsClassifier\n",
    "from sklearn.metrics import accuracy_score\n",
    "# Load the Iris dataset\n",
    "iris = load_iris()\n",
    "# Split the dataset into training and testing sets\n",
    "X_train, X_test, y_train, y_test = train_test_split(iris.data, iris.target, test_size=0.2, random_state=42)\n",
    "# Initialize the KNN classifier\n",
    "knn = KNeighborsClassifier(n_neighbors=3)\n",
    "# Train the KNN classifier\n",
    "knn.fit(X_train, y_train)\n",
    "y_pred = knn.predict(X_test)\n",
    "accuracy = accuracy_score(y_test, y_pred)\n",
    "print(\"Correct Predictions:\")\n",
    "for i in range(len(y_pred)):\n",
    "    if y_pred[i] == y_test[i]:\n",
    "        print(f\"Sample {i+1}: Predicted={iris.target_names[y_pred[i]]}, Actual={iris.target_names[y_test[i]]}\")\n",
    "print(\"\\nWrong Predictions:\")\n"
   ]
  },
  {
   "cell_type": "code",
   "execution_count": 9,
   "id": "06cae1f2",
   "metadata": {},
   "outputs": [
    {
     "name": "stdout",
     "output_type": "stream",
     "text": [
      "\n",
      "Overall Accuracy: 1.0\n"
     ]
    }
   ],
   "source": [
    "for i in range(len(y_pred)):\n",
    "    if y_pred[i] != y_test[i]:\n",
    "        print(f\"Sample {i+1}: Predicted={iris.target_names[y_pred[i]]},Actual={iris.target_names[y_test[i]]}\")\n",
    "# Print the overall accuracy\n",
    "print(\"\\nOverall Accuracy:\", accuracy)"
   ]
  },
  {
   "cell_type": "code",
   "execution_count": null,
   "id": "c5ab3acc",
   "metadata": {},
   "outputs": [],
   "source": []
  }
 ],
 "metadata": {
  "kernelspec": {
   "display_name": "Python 3 (ipykernel)",
   "language": "python",
   "name": "python3"
  },
  "language_info": {
   "codemirror_mode": {
    "name": "ipython",
    "version": 3
   },
   "file_extension": ".py",
   "mimetype": "text/x-python",
   "name": "python",
   "nbconvert_exporter": "python",
   "pygments_lexer": "ipython3",
   "version": "3.9.7"
  }
 },
 "nbformat": 4,
 "nbformat_minor": 5
}
