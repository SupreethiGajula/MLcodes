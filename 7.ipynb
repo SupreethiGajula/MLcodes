{
 "cells": [
  {
   "cell_type": "code",
   "execution_count": 3,
   "id": "79f8282c",
   "metadata": {},
   "outputs": [
    {
     "name": "stdout",
     "output_type": "stream",
     "text": [
      "Requirement already satisfied: pgmpy in c:\\users\\gajul\\anaconda3\\lib\\site-packages (0.1.23)Note: you may need to restart the kernel to use updated packages.\n",
      "Requirement already satisfied: networkx in c:\\users\\gajul\\anaconda3\\lib\\site-packages (from pgmpy) (2.6.3)\n",
      "Requirement already satisfied: joblib in c:\\users\\gajul\\anaconda3\\lib\\site-packages (from pgmpy) (1.1.0)\n",
      "Requirement already satisfied: pandas in c:\\users\\gajul\\anaconda3\\lib\\site-packages (from pgmpy) (1.3.4)\n",
      "Requirement already satisfied: pyparsing in c:\\users\\gajul\\anaconda3\\lib\\site-packages (from pgmpy) (3.0.4)\n",
      "Requirement already satisfied: opt-einsum in c:\\users\\gajul\\anaconda3\\lib\\site-packages (from pgmpy) (3.3.0)\n",
      "Requirement already satisfied: torch in c:\\users\\gajul\\anaconda3\\lib\\site-packages (from pgmpy) (2.0.1)\n",
      "\n",
      "Requirement already satisfied: scipy in c:\\users\\gajul\\anaconda3\\lib\\site-packages (from pgmpy) (1.7.1)\n",
      "Requirement already satisfied: tqdm in c:\\users\\gajul\\anaconda3\\lib\\site-packages (from pgmpy) (4.62.3)\n",
      "Requirement already satisfied: numpy in c:\\users\\gajul\\anaconda3\\lib\\site-packages (from pgmpy) (1.22.4)\n",
      "Requirement already satisfied: statsmodels in c:\\users\\gajul\\anaconda3\\lib\\site-packages (from pgmpy) (0.12.2)\n",
      "Requirement already satisfied: scikit-learn in c:\\users\\gajul\\anaconda3\\lib\\site-packages (from pgmpy) (0.24.2)\n",
      "Requirement already satisfied: pytz>=2017.3 in c:\\users\\gajul\\anaconda3\\lib\\site-packages (from pandas->pgmpy) (2021.3)\n",
      "Requirement already satisfied: python-dateutil>=2.7.3 in c:\\users\\gajul\\anaconda3\\lib\\site-packages (from pandas->pgmpy) (2.8.2)\n",
      "Requirement already satisfied: six>=1.5 in c:\\users\\gajul\\anaconda3\\lib\\site-packages (from python-dateutil>=2.7.3->pandas->pgmpy) (1.16.0)\n",
      "Requirement already satisfied: threadpoolctl>=2.0.0 in c:\\users\\gajul\\anaconda3\\lib\\site-packages (from scikit-learn->pgmpy) (2.2.0)\n",
      "Requirement already satisfied: patsy>=0.5 in c:\\users\\gajul\\anaconda3\\lib\\site-packages (from statsmodels->pgmpy) (0.5.2)\n",
      "Requirement already satisfied: filelock in c:\\users\\gajul\\anaconda3\\lib\\site-packages (from torch->pgmpy) (3.3.1)\n",
      "Requirement already satisfied: typing-extensions in c:\\users\\gajul\\anaconda3\\lib\\site-packages (from torch->pgmpy) (3.10.0.2)\n",
      "Requirement already satisfied: sympy in c:\\users\\gajul\\anaconda3\\lib\\site-packages (from torch->pgmpy) (1.9)\n",
      "Requirement already satisfied: jinja2 in c:\\users\\gajul\\anaconda3\\lib\\site-packages (from torch->pgmpy) (2.11.3)\n",
      "Requirement already satisfied: MarkupSafe>=0.23 in c:\\users\\gajul\\anaconda3\\lib\\site-packages (from jinja2->torch->pgmpy) (1.1.1)\n",
      "Requirement already satisfied: mpmath>=0.19 in c:\\users\\gajul\\anaconda3\\lib\\site-packages (from sympy->torch->pgmpy) (1.2.1)\n",
      "Requirement already satisfied: colorama in c:\\users\\gajul\\anaconda3\\lib\\site-packages (from tqdm->pgmpy) (0.4.4)\n"
     ]
    }
   ],
   "source": [
    "%pip install pgmpy"
   ]
  },
  {
   "cell_type": "code",
   "execution_count": 13,
   "id": "173475c5",
   "metadata": {
    "scrolled": true
   },
   "outputs": [
    {
     "name": "stdout",
     "output_type": "stream",
     "text": [
      "+-------------------+---------------------+\n",
      "| heartdisease      |   phi(heartdisease) |\n",
      "+===================+=====================+\n",
      "| heartdisease(no)  |              0.5000 |\n",
      "+-------------------+---------------------+\n",
      "| heartdisease(yes) |              0.5000 |\n",
      "+-------------------+---------------------+\n"
     ]
    }
   ],
   "source": [
    "import pandas as pd\n",
    "from pgmpy.models import BayesianModel\n",
    "from pgmpy.estimators import BayesianEstimator\n",
    "from pgmpy.inference import VariableElimination\n",
    "\n",
    "data = pd.read_csv('heart_disease.csv')\n",
    "\n",
    "# Convert 'age' to an ordinal variable by creating age groups\n",
    "data['age_group'] = pd.cut(data['age'], bins=[29, 39, 49, 59, 69, 100], labels=['30-39', '40-49', '50-59', '60-69', '70+'])\n",
    "\n",
    "model = BayesianModel([('age_group', 'heartdisease'), ('sex', 'heartdisease'), ('exang', 'heartdisease'),\n",
    "                      ('cp', 'heartdisease'), ('heartdisease', 'restecg'), ('heartdisease', 'chol')])\n",
    "\n",
    "model.fit(data, estimator=BayesianEstimator)\n",
    "infer = VariableElimination(model)\n",
    "\n",
    "symptoms = {'age_group': '40-49', 'sex': 'male', 'exang': 'yes', 'cp': 'non-anginal'}\n",
    "\n",
    "# Perform inference to calculate the probability of heart disease given the symptoms\n",
    "prob = infer.query(variables=['heartdisease'], evidence=symptoms)\n",
    "print(prob)\n"
   ]
  },
  {
   "cell_type": "code",
   "execution_count": null,
   "id": "53ba83bc",
   "metadata": {},
   "outputs": [],
   "source": []
  },
  {
   "cell_type": "code",
   "execution_count": null,
   "id": "6116ad37",
   "metadata": {},
   "outputs": [],
   "source": []
  },
  {
   "cell_type": "code",
   "execution_count": null,
   "id": "62a14e03",
   "metadata": {},
   "outputs": [],
   "source": []
  }
 ],
 "metadata": {
  "kernelspec": {
   "display_name": "Python 3 (ipykernel)",
   "language": "python",
   "name": "python3"
  },
  "language_info": {
   "codemirror_mode": {
    "name": "ipython",
    "version": 3
   },
   "file_extension": ".py",
   "mimetype": "text/x-python",
   "name": "python",
   "nbconvert_exporter": "python",
   "pygments_lexer": "ipython3",
   "version": "3.9.7"
  }
 },
 "nbformat": 4,
 "nbformat_minor": 5
}
